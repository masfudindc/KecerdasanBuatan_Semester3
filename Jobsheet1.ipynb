{
  "nbformat": 4,
  "nbformat_minor": 0,
  "metadata": {
    "colab": {
      "provenance": [],
      "collapsed_sections": [],
      "authorship_tag": "ABX9TyNpAUhcEz77v/iaZeH1u6Pw",
      "include_colab_link": true
    },
    "kernelspec": {
      "name": "python3",
      "display_name": "Python 3"
    },
    "language_info": {
      "name": "python"
    }
  },
  "cells": [
    {
      "cell_type": "markdown",
      "metadata": {
        "id": "view-in-github",
        "colab_type": "text"
      },
      "source": [
        "<a href=\"https://colab.research.google.com/github/masfudindc/KecerdasanBuatan_Semester3/blob/main/Jobsheet1.ipynb\" target=\"_parent\"><img src=\"https://colab.research.google.com/assets/colab-badge.svg\" alt=\"Open In Colab\"/></a>"
      ]
    },
    {
      "cell_type": "markdown",
      "source": [
        "#Masfudin Dwi Cahyo (13)\n",
        "#2141720010\n",
        "#2B"
      ],
      "metadata": {
        "id": "vkbwqK54Mmbd"
      }
    },
    {
      "cell_type": "markdown",
      "source": [
        "#..."
      ],
      "metadata": {
        "id": "iJzIqmwXWuLp"
      }
    },
    {
      "cell_type": "markdown",
      "source": [
        "#PRAKTIKUM 1"
      ],
      "metadata": {
        "id": "Iut75Sg2L67z"
      }
    },
    {
      "cell_type": "code",
      "source": [
        "graph = {\n",
        "    'A' : ['B', 'C'],\n",
        "    'B' : ['D', 'E'],\n",
        "    'C' : ['F'],\n",
        "    'D' : [],\n",
        "    'E' : ['F'],\n",
        "    'F' : ['H'],\n",
        "    'G' : ['H'],\n",
        "    'H' : ['G']\n",
        "}\n",
        "\n",
        "visited = [] #List to keep track of visited nodes.\n",
        "queue = [] #Initialize a queue\n",
        "\n",
        "\n",
        "def bfs (visited, graph, node):\n",
        "  visited.append(node)\n",
        "  queue.append(node)\n",
        "\n",
        "  while queue:\n",
        "    s = queue.pop(0)\n",
        "    print (s, end = \" \")\n",
        "\n",
        "    for neighbour in graph[s]:\n",
        "      if neighbour not in visited:\n",
        "        visited.append(neighbour)\n",
        "        queue.append(neighbour)\n",
        "  \n",
        "\n",
        "print(\"Hasil penelusuran graf menggunakan BFS : \")\n",
        "bfs(visited, graph, 'A')"
      ],
      "metadata": {
        "colab": {
          "base_uri": "https://localhost:8080/"
        },
        "id": "Fh1Wcqtr3cAD",
        "outputId": "ec715443-f41f-4e95-9929-467879b2bdb3"
      },
      "execution_count": 2,
      "outputs": [
        {
          "output_type": "stream",
          "name": "stdout",
          "text": [
            "Hasil penelusuran graf menggunakan BFS : \n",
            "A B C D E F H G "
          ]
        }
      ]
    },
    {
      "cell_type": "code",
      "source": [
        "graph = {\n",
        "    'A' : ['B', 'C'],\n",
        "    'B' : ['D', 'E'],\n",
        "    'C' : ['F'],\n",
        "    'D' : [],\n",
        "    'E' : ['F'],\n",
        "    'E' : ['G'],\n",
        "    'F' : ['H'],\n",
        "    'G' : ['H'],\n",
        "    'H' : ['G']\n",
        "}\n",
        "\n",
        "visited = [] #List to keep track of visited nodes.\n",
        "queue = [] #Initialize a queue\n",
        "\n",
        "\n",
        "def bfs (visited, graph, node):\n",
        "  visited.append(node)\n",
        "  queue.append(node)\n",
        "\n",
        "  while queue:\n",
        "    s = queue.pop(0)\n",
        "    print (s, end = \" \")\n",
        "\n",
        "    for neighbour in graph[s]:\n",
        "      if neighbour not in visited:\n",
        "        visited.append(neighbour)\n",
        "        queue.append(neighbour)\n",
        "  \n",
        "\n",
        "print(\"Hasil penelusuran graf menggunakan BFS : \")\n",
        "bfs(visited, graph, 'A')"
      ],
      "metadata": {
        "colab": {
          "base_uri": "https://localhost:8080/"
        },
        "id": "ks4vgddgHLhY",
        "outputId": "80cea969-c2d8-4ded-9b1b-05a78b9909ae"
      },
      "execution_count": 7,
      "outputs": [
        {
          "output_type": "stream",
          "name": "stdout",
          "text": [
            "Hasil penelusuran graf menggunakan BFS : \n",
            "A B C D E F G H "
          ]
        }
      ]
    },
    {
      "cell_type": "markdown",
      "source": [
        "###Pertanyaan\n",
        "\n",
        "1. Jelaskan detail dari Langkah ketiga pada percobaan 1\n",
        "\n",
        "  **Jawab :** Sintaks pada langkah ketiga digunakan untuk melakukan penelusuran menggunakan metode BFS.\n",
        "\n",
        "2. Bagaimana hasil penelusuran graf diatas bila node E terhubung dengan node F dan G (neighbour dari E adalah F dan G)? Mengapa?\n",
        "\n",
        "  **Jawab :** Maka, hasil penelusuran graf menggunakan BFS akan menghasilkan A B C D E F G. Hal tersebut terjadi karena E terhubung dengan F, lalu E juga terhubung dengan G, maka penelusuran graf dengan BFS menghasilkan hasil seperti itu karena penelusuran dengan BFS mengarah ke kanan."
      ],
      "metadata": {
        "id": "WDRc8PrCFJvb"
      }
    },
    {
      "cell_type": "markdown",
      "source": [
        "#..."
      ],
      "metadata": {
        "id": "nQ-S2zYNWozm"
      }
    },
    {
      "cell_type": "markdown",
      "source": [
        "#PRAKTIKUM 2"
      ],
      "metadata": {
        "id": "PzJy-2E5L2Vu"
      }
    },
    {
      "cell_type": "code",
      "source": [
        "graph = {\n",
        "    'A' : ['B', 'C'],\n",
        "    'B' : ['D', 'E'],\n",
        "    'C' : ['F'],\n",
        "    'D' : [],\n",
        "    'E' : ['F'],\n",
        "    'F' : ['H'],\n",
        "    'G' : ['H'],\n",
        "    'H' : ['G']\n",
        "}\n",
        "\n",
        "\n",
        "visited = set()\n",
        "\n",
        "def dfs (visited,graph, node):\n",
        "  if node not in visited:\n",
        "    print (node)\n",
        "    visited.add(node)\n",
        "    for neighbour in graph[node]:\n",
        "      dfs (visited, graph, neighbour)\n",
        "\n",
        "\n",
        "print (\"Hasil penelusuran graf menggunakan DFS : \")\n",
        "dfs(visited, graph, 'A')"
      ],
      "metadata": {
        "colab": {
          "base_uri": "https://localhost:8080/"
        },
        "id": "0feEerhvAGbt",
        "outputId": "5b27756a-d27e-43b8-d9ec-be6ed3146f71"
      },
      "execution_count": 3,
      "outputs": [
        {
          "output_type": "stream",
          "name": "stdout",
          "text": [
            "Hasil penelusuran graf menggunakan DFS : \n",
            "A\n",
            "B\n",
            "D\n",
            "E\n",
            "F\n",
            "H\n",
            "G\n",
            "C\n"
          ]
        }
      ]
    },
    {
      "cell_type": "code",
      "source": [
        "graph = {\n",
        "    'A' : ['B', 'C'],\n",
        "    'B' : ['D', 'E'],\n",
        "    'B' : ['C'],\n",
        "    'C' : ['F'],\n",
        "    'D' : [],\n",
        "    'E' : ['F'],\n",
        "    'F' : ['H'],\n",
        "    'G' : ['H'],\n",
        "    'H' : ['G']\n",
        "}\n",
        "\n",
        "\n",
        "visited = set()\n",
        "\n",
        "def dfs (visited,graph, node):\n",
        "  if node not in visited:\n",
        "    print (node)\n",
        "    visited.add(node)\n",
        "    for neighbour in graph[node]:\n",
        "      dfs (visited, graph, neighbour)\n",
        "\n",
        "\n",
        "print (\"Hasil penelusuran graf menggunakan DFS : \")\n",
        "dfs(visited, graph, 'A')"
      ],
      "metadata": {
        "colab": {
          "base_uri": "https://localhost:8080/"
        },
        "id": "OtXN8Z94Jhqx",
        "outputId": "ffec1e8a-0981-4b9a-abb1-b5c609a25349"
      },
      "execution_count": 9,
      "outputs": [
        {
          "output_type": "stream",
          "name": "stdout",
          "text": [
            "Hasil penelusuran graf menggunakan DFS : \n",
            "A\n",
            "B\n",
            "C\n",
            "F\n",
            "H\n",
            "G\n"
          ]
        }
      ]
    },
    {
      "cell_type": "markdown",
      "source": [
        "###Pertanyaan\n",
        "\n",
        "1. Jelaskan secara rinci Langkah ketiga dari percobaan 2!\n",
        "\n",
        "  **Jawab :** Sintaks pada langkah ketiga digunakan untuk melakukan penelusuran menggunakan metode DFS.\n",
        "\n",
        "\n",
        "2. Apakah terdapat perbedaan hasil penelusuran bila node B terhubung dengan node C? Mengapa?\n",
        "\n",
        "  **Jawab :** Terdapat perbedaan pada hasil karena penelusuran secara DFS dilakukan secara menurun."
      ],
      "metadata": {
        "id": "F6CcIXliGNcn"
      }
    },
    {
      "cell_type": "markdown",
      "source": [
        "#..."
      ],
      "metadata": {
        "id": "5tzR3TCCWgtK"
      }
    },
    {
      "cell_type": "markdown",
      "source": [
        "#..."
      ],
      "metadata": {
        "id": "ZIo2soCJWrMs"
      }
    },
    {
      "cell_type": "markdown",
      "source": [
        "#LATIHAN PRAKTIKUM"
      ],
      "metadata": {
        "id": "3z26cwvRL02B"
      }
    },
    {
      "cell_type": "markdown",
      "source": [
        "###1. Telusuri graf berikut menggunakan : \n",
        "####a. BFS\n"
      ],
      "metadata": {
        "id": "TFzotVsZNP0q"
      }
    },
    {
      "cell_type": "code",
      "source": [
        "graph = {\n",
        "    'A' : ['B', 'E', 'F'],\n",
        "    'B' : ['A', 'F', 'G'],\n",
        "    'C' : ['D', 'G'],\n",
        "    'D' : ['C', 'H'],\n",
        "    'E' : ['A', 'F'],\n",
        "    'F' : ['A', 'B', 'E'],\n",
        "    'G' : ['B', 'C', 'H'],\n",
        "    'H' : ['D', 'G']\n",
        "}\n",
        "\n",
        "\n",
        "visited = [] #List to keep track of visited nodes.\n",
        "queue = [] #Initialize a queue\n",
        "\n",
        "\n",
        "def bfs (visited, graph, node):\n",
        "  visited.append(node)\n",
        "  queue.append(node)\n",
        "\n",
        "  while queue:\n",
        "    s = queue.pop(0)\n",
        "    print (s, end = \" \")\n",
        "\n",
        "    for neighbour in graph[s]:\n",
        "      if neighbour not in visited:\n",
        "        visited.append(neighbour)\n",
        "        queue.append(neighbour)\n",
        "  \n",
        "\n",
        "print(\"Hasil penelusuran graf menggunakan BFS : \")\n",
        "bfs(visited, graph, 'A')"
      ],
      "metadata": {
        "colab": {
          "base_uri": "https://localhost:8080/"
        },
        "id": "wgDCGCeYLzJD",
        "outputId": "3ac705d8-335f-4956-bffe-8b642f16626a"
      },
      "execution_count": 31,
      "outputs": [
        {
          "output_type": "stream",
          "name": "stdout",
          "text": [
            "Hasil penelusuran graf menggunakan BFS : \n",
            "A B E F G C H D "
          ]
        }
      ]
    },
    {
      "cell_type": "markdown",
      "source": [
        "####b. DFS"
      ],
      "metadata": {
        "id": "rcpzQNj9RCK8"
      }
    },
    {
      "cell_type": "code",
      "source": [
        "graph = {\n",
        "    'A' : ['B', 'E', 'F'],\n",
        "    'B' : ['A', 'F', 'G'],\n",
        "    'C' : ['D', 'G'],\n",
        "    'D' : ['C', 'H'],\n",
        "    'E' : ['A', 'F'],\n",
        "    'F' : ['A', 'B', 'E'],\n",
        "    'G' : ['B', 'C', 'H'],\n",
        "    'H' : ['D', 'G']\n",
        "}\n",
        "\n",
        "\n",
        "visited = set()\n",
        "\n",
        "def dfs (visited,graph, node):\n",
        "  if node not in visited:\n",
        "    print (node)\n",
        "    visited.add(node)\n",
        "    for neighbour in graph[node]:\n",
        "      dfs (visited, graph, neighbour)\n",
        "\n",
        "\n",
        "print (\"Hasil penelusuran graf menggunakan DFS : \")\n",
        "dfs(visited, graph, 'A')"
      ],
      "metadata": {
        "colab": {
          "base_uri": "https://localhost:8080/"
        },
        "id": "iLQNTW-6Q6RL",
        "outputId": "557ebf19-7fc1-4d46-e76d-cb90f04c2e77"
      },
      "execution_count": 32,
      "outputs": [
        {
          "output_type": "stream",
          "name": "stdout",
          "text": [
            "Hasil penelusuran graf menggunakan DFS : \n",
            "A\n",
            "B\n",
            "F\n",
            "E\n",
            "G\n",
            "C\n",
            "D\n",
            "H\n"
          ]
        }
      ]
    },
    {
      "cell_type": "markdown",
      "source": [
        "###2. Buatlah program untuk menelusuri mencari huruf ‘d’ pada graf berikut menggunakan :\n",
        "\n",
        "####a. BFS"
      ],
      "metadata": {
        "id": "mllJIqheRM4w"
      }
    },
    {
      "cell_type": "code",
      "source": [
        "graph = {\n",
        "    'A' : ['B'],\n",
        "    'B' : ['A', 'F', 'G'],\n",
        "    'C' : ['D', 'G'],\n",
        "    'D' : ['C', 'H'],\n",
        "    'E' : ['F'],\n",
        "    'F' : ['B', 'E'],\n",
        "    'G' : ['B', 'C'],\n",
        "    'H' : ['D']\n",
        "}\n",
        "\n",
        "\n",
        "visited = [] #List to keep track of visited nodes.\n",
        "queue = [] #Initialize a queue\n",
        "\n",
        "\n",
        "def bfs (visited, graph, node, target):\n",
        "  visited.append(node)\n",
        "  queue.append(node)\n",
        "\n",
        "  while queue:\n",
        "    s = queue.pop(0)\n",
        "    print (s, end = \" \")\n",
        "    if s== target:\n",
        "      return\n",
        "\n",
        "    for neighbour in graph[s]:\n",
        "      if neighbour not in visited:\n",
        "        visited.append(neighbour)\n",
        "        queue.append(neighbour)\n",
        "  \n",
        "\n",
        "print(\"Hasil penelusuran graf menggunakan BFS : \")\n",
        "bfs(visited, graph, 'A', 'D')"
      ],
      "metadata": {
        "colab": {
          "base_uri": "https://localhost:8080/"
        },
        "id": "dxRC5xXmROHq",
        "outputId": "bf7927ec-99d0-424c-c325-6e3b4f843031"
      },
      "execution_count": 38,
      "outputs": [
        {
          "output_type": "stream",
          "name": "stdout",
          "text": [
            "Hasil penelusuran graf menggunakan BFS : \n",
            "A B F G E C D "
          ]
        }
      ]
    },
    {
      "cell_type": "markdown",
      "source": [
        "####b. DFS\n"
      ],
      "metadata": {
        "id": "j1sUWZEcQlio"
      }
    },
    {
      "cell_type": "code",
      "source": [
        "graph = {\n",
        "    'A' : ['B'],\n",
        "    'B' : ['A', 'F', 'G'],\n",
        "    'C' : ['D', 'G'],\n",
        "    'D' : ['C', 'H'],\n",
        "    'E' : ['F'],\n",
        "    'F' : ['B', 'E'],\n",
        "    'G' : ['B', 'C'],\n",
        "    'H' : ['D']\n",
        "}\n",
        "\n",
        "\n",
        "visited = set()\n",
        "\n",
        "def dfs (visited,graph, node, target):\n",
        "  if node not in visited:\n",
        "    print (node)\n",
        "    visited.add(node)\n",
        "    if node == target:\n",
        "      return\n",
        "    for neighbour in graph[node]:\n",
        "      dfs (visited, graph, neighbour, target)\n",
        "\n",
        "\n",
        "print (\"Hasil penelusuran graf menggunakan DFS : \")\n",
        "dfs(visited, graph, 'A', 'D')"
      ],
      "metadata": {
        "colab": {
          "base_uri": "https://localhost:8080/"
        },
        "id": "VzoH8gP2O547",
        "outputId": "61ac2b18-1d15-4b92-9236-5fc9f36c4bdf"
      },
      "execution_count": 37,
      "outputs": [
        {
          "output_type": "stream",
          "name": "stdout",
          "text": [
            "Hasil penelusuran graf menggunakan DFS : \n",
            "A\n",
            "B\n",
            "F\n",
            "E\n",
            "G\n",
            "C\n",
            "D\n"
          ]
        }
      ]
    },
    {
      "cell_type": "markdown",
      "source": [
        "####c. Mana yang lebih efektif? Mengapa?\n",
        "\n",
        "Keduanya membutuhkan waktu yang sama hanya urutannya yang berbeda."
      ],
      "metadata": {
        "id": "P1Ti2HDnRHTS"
      }
    },
    {
      "cell_type": "markdown",
      "source": [],
      "metadata": {
        "id": "fBQrqh9IbFnB"
      }
    }
  ]
}